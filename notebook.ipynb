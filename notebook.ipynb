{
 "cells": [
  {
   "cell_type": "markdown",
   "metadata": {
    "id": "E0vqbgi9ay0H"
   },
   "source": [
    "# Let me hear the music"
   ]
  },
  {
   "cell_type": "markdown",
   "metadata": {
    "id": "fhq_eyov_Zcs"
   },
   "source": [
    "# Content <a id='back'></a>\n",
    "\n",
    "* [Introduction](#intro)\n",
    "* [Stage 1. Data Description](#data_review)\n",
    "    * [Conclusions](#data_review_conclusions)\n",
    "* [Stage 2. Data Preprocessing](#data_preprocessing)\n",
    "    * [2.1 Header Style](#header_style)\n",
    "    * [2.2 Missing Values](#missing_values)\n",
    "    * [2.3 Duplicates](#duplicates)\n",
    "    * [2.4 Conclusions](#data_preprocessing_conclusions)\n",
    "* [Stage 3. Hypothesis Testing](#hypothesis)\n",
    "    * [3.1 Hypothesis 1: Male and Female User Activity in the Two Cities](#activity)\n",
    "* [Conclusions](#end)"
   ]
  },
  {
   "cell_type": "markdown",
   "metadata": {
    "id": "VUC88oWjTJw2"
   },
   "source": [
    " ## Introduction <a id='intro'></a>\n",
    "\n",
    "The purpose of this work is to analyze data to extract valuable information and facilitate informed decision-making. The process includes several stages, such as data overview, preprocessing, and hypothesis testing.\n",
    "\n",
    "In any research, it is essential to formulate hypotheses that can then be evaluated. Some of these hypotheses are accepted, while others are rejected. To make sound decisions, a company must be able to identify whether its assumptions are correct.\n",
    "\n",
    "In this project, the musical preferences of users in the cities of Springfield and Shelbyville were compared. Real-world online music streaming data was used to test the hypothesis and analyze user behavior in both locations.\n",
    "\n",
    "### Objective:\n",
    "To evaluate the following hypothesis:\n",
    "1. User activity differs by day of the week and city.\n",
    "\n",
    "### Stages\n",
    "User behavior data is stored in the file `/datasets/music_project_en.csv`.\n",
    "\n",
    "First, data quality will be assessed to determine the extent of potential problems. Critical aspects will then be addressed during preprocessing.\n",
    "\n",
    "Project Stages:\n",
    "1. Data Description.\n",
    "2. Data Preprocessing.\n",
    "3. Hypothesis Testing."
   ]
  },
  {
   "cell_type": "markdown",
   "metadata": {
    "id": "hDt6pg-Rw-1U"
   },
   "source": [
    "[Volver a Contenidos](#back)"
   ]
  },
  {
   "cell_type": "markdown",
   "metadata": {
    "id": "Ml1hmfXC_Zcs"
   },
   "source": [
    "## Step 1. Data Description <a id='data_review'></a>\n",
    "\n",
    "Open and review the data."
   ]
  },
  {
   "cell_type": "code",
   "execution_count": 35,
   "metadata": {
    "id": "AXN7PHPN_Zcs",
    "trusted": true
   },
   "outputs": [],
   "source": [
    "import pandas as pd"
   ]
  },
  {
   "cell_type": "code",
   "execution_count": 36,
   "metadata": {
    "id": "fFVu7vqh_Zct",
    "trusted": true
   },
   "outputs": [],
   "source": [
    "# Read the music_project_en.csv file and store it in df\n",
    "df = pd.read_csv('./datasets/music_project_en.csv')"
   ]
  },
  {
   "cell_type": "markdown",
   "metadata": {
    "id": "rDoOMd3uTqnZ"
   },
   "source": [
    "Muestra las 10 primeras filas de la tabla:"
   ]
  },
  {
   "cell_type": "code",
   "execution_count": 37,
   "metadata": {
    "id": "oWTVX3gW_Zct",
    "trusted": true
   },
   "outputs": [
    {
     "name": "stdout",
     "output_type": "stream",
     "text": [
      "     userID                        Track            artist   genre  \\\n",
      "0  FFB692EC            Kamigata To Boots  The Mass Missile    rock   \n",
      "1  55204538  Delayed Because of Accident  Andreas Rönnberg    rock   \n",
      "2    20EC38            Funiculì funiculà       Mario Lanza     pop   \n",
      "3  A3DD03C9        Dragons in the Sunset        Fire + Ice    folk   \n",
      "4  E2DC1FAE                  Soul People        Space Echo   dance   \n",
      "5  842029A1                       Chains          Obladaet  rusrap   \n",
      "6  4CB90AA5                         True      Roman Messer   dance   \n",
      "7  F03E1C1F             Feeling This Way   Polina Griffith   dance   \n",
      "8  8FA1D3BE                     L’estate       Julia Dalia  ruspop   \n",
      "9  E772D5C0                    Pessimist               NaN   dance   \n",
      "\n",
      "        City        time        Day  \n",
      "0  Shelbyville  20:28:33  Wednesday  \n",
      "1  Springfield  14:07:09     Friday  \n",
      "2  Shelbyville  20:58:07  Wednesday  \n",
      "3  Shelbyville  08:37:09     Monday  \n",
      "4  Springfield  08:34:34     Monday  \n",
      "5  Shelbyville  13:09:41     Friday  \n",
      "6  Springfield  13:00:07  Wednesday  \n",
      "7  Springfield  20:47:49  Wednesday  \n",
      "8  Springfield  09:17:40     Friday  \n",
      "9  Shelbyville  21:20:49  Wednesday  \n"
     ]
    }
   ],
   "source": [
    "# Get the first 10 rows from table df\n",
    "print(df.head(10))"
   ]
  },
  {
   "cell_type": "code",
   "execution_count": 38,
   "metadata": {
    "id": "DSf2kIb-_Zct",
    "trusted": true
   },
   "outputs": [
    {
     "name": "stdout",
     "output_type": "stream",
     "text": [
      "<class 'pandas.core.frame.DataFrame'>\n",
      "RangeIndex: 65079 entries, 0 to 65078\n",
      "Data columns (total 7 columns):\n",
      " #   Column    Non-Null Count  Dtype \n",
      "---  ------    --------------  ----- \n",
      " 0     userID  65079 non-null  object\n",
      " 1   Track     63736 non-null  object\n",
      " 2   artist    57512 non-null  object\n",
      " 3   genre     63881 non-null  object\n",
      " 4     City    65079 non-null  object\n",
      " 5   time      65079 non-null  object\n",
      " 6   Day       65079 non-null  object\n",
      "dtypes: object(7)\n",
      "memory usage: 3.5+ MB\n"
     ]
    }
   ],
   "source": [
    "# Get general information about the data\n",
    "df.info()"
   ]
  },
  {
   "cell_type": "markdown",
   "metadata": {
    "id": "TaQ2Iwbr_Zct"
   },
   "source": [
    "Table Notes: It contains seven columns, each storing the same data type: `object`.\n",
    "\n",
    "According to the documentation:\n",
    "- ` userID`: User ID;\n",
    "- `Track`: Song title;\n",
    "- `artist`: Artist name;\n",
    "- `genre`: Track genre;\n",
    "- `City`: User city;\n",
    "- `time`: Exact time the song was played;\n",
    "- `Day`: Day of the week.\n",
    "\n",
    "Style issues with table headers:\n",
    "1. Some headers are uppercase, others lowercase.\n",
    "2. There are spaces in some headers.\n",
    "3. Snake_case 'userID' as it would be better read as 'user_id'."
   ]
  },
  {
   "cell_type": "markdown",
   "metadata": {
    "id": "MCB6-dXG_Zct"
   },
   "source": [
    "### Other observations\n",
    "\n",
    "1. There is categorical data. The data is descriptive; there are no numbers in the table. The data is available for statistics and hypothesis testing.\n",
    "\n",
    "2. There is sufficient data, as there is a column to determine the day the music was played and another column to determine the city.\n",
    "\n",
    "3. There is missing data in three columns, and there appears to be incorrect data, as one username has a shorter string than the others, and the gender includes 'rusrap' and 'ruspop'. This data looks strange."
   ]
  },
  {
   "cell_type": "markdown",
   "metadata": {
    "id": "dIaKXr29_Zct"
   },
   "source": [
    "### Header Style <a id='header_style'></a>\n",
    "Display table headers (column names)"
   ]
  },
  {
   "cell_type": "code",
   "execution_count": 39,
   "metadata": {
    "id": "oKOTdF_Q_Zct",
    "trusted": true
   },
   "outputs": [
    {
     "name": "stdout",
     "output_type": "stream",
     "text": [
      "Index(['  userID', 'Track', 'artist', 'genre', '  City  ', 'time', 'Day'], dtype='object')\n"
     ]
    }
   ],
   "source": [
    "# Displays column names\n",
    "print(df.columns)"
   ]
  },
  {
   "cell_type": "markdown",
   "metadata": {
    "id": "zj5534cv_Zct"
   },
   "source": [
    "Change table headings according to good style rules:\n",
    "* All characters must be lowercase.\n",
    "* Remove spaces.\n",
    "* If the name has multiple words, use snake_case."
   ]
  },
  {
   "cell_type": "code",
   "execution_count": 40,
   "metadata": {
    "id": "6I_RwwMhzM4e",
    "trusted": true
   },
   "outputs": [
    {
     "name": "stdout",
     "output_type": "stream",
     "text": [
      "Index(['  userid', 'track', 'artist', 'genre', '  city  ', 'time', 'day'], dtype='object')\n"
     ]
    }
   ],
   "source": [
    "# Loop through headers making everything lowercase\n",
    "new_col_names = []\n",
    "for low in df.columns:\n",
    "    name_lowered = low.lower()\n",
    "    new_col_names.append(name_lowered)\n",
    "    \n",
    "df.columns = new_col_names    \n",
    "print(df.columns)"
   ]
  },
  {
   "cell_type": "code",
   "execution_count": 41,
   "metadata": {
    "id": "vVQXbFyJzSYl",
    "trusted": true
   },
   "outputs": [
    {
     "name": "stdout",
     "output_type": "stream",
     "text": [
      "Index(['userid', 'track', 'artist', 'genre', 'city', 'time', 'day'], dtype='object')\n"
     ]
    }
   ],
   "source": [
    "# Loop through headers removing spaces\n",
    "new_col_names_2 = []\n",
    "for old_names in new_col_names:\n",
    "    name_stripped = old_names.strip()\n",
    "    new_col_names_2.append(name_stripped)\n",
    "\n",
    "df.columns = new_col_names_2\n",
    "print(df.columns)"
   ]
  },
  {
   "cell_type": "code",
   "execution_count": 42,
   "metadata": {
    "id": "ISlFqs5y_Zct",
    "trusted": true
   },
   "outputs": [
    {
     "name": "stdout",
     "output_type": "stream",
     "text": [
      "Index(['user_id', 'track', 'artist', 'genre', 'city', 'time', 'day'], dtype='object')\n"
     ]
    }
   ],
   "source": [
    "# Rename the \"userid\" column\n",
    "df.rename(columns = {'userid':'user_id'}, inplace=True)\n",
    "print(df.columns)"
   ]
  },
  {
   "cell_type": "code",
   "execution_count": 43,
   "metadata": {
    "id": "d4NOAmTW_Zct",
    "trusted": true
   },
   "outputs": [
    {
     "name": "stdout",
     "output_type": "stream",
     "text": [
      "Index(['user_id', 'track', 'artist', 'genre', 'city', 'time', 'day'], dtype='object')\n"
     ]
    }
   ],
   "source": [
    "# Check the result: list of headers\n",
    "print(df.columns)"
   ]
  },
  {
   "cell_type": "markdown",
   "metadata": {
    "id": "xYJk6ksJVpOl"
   },
   "source": [
    "[Volver a Contenidos](#back)"
   ]
  },
  {
   "cell_type": "markdown",
   "metadata": {
    "id": "5ISfbcfY_Zct"
   },
   "source": [
    "### Missing values <a id='missing_values'></a>"
   ]
  },
  {
   "cell_type": "code",
   "execution_count": 44,
   "metadata": {
    "id": "RskX29qr_Zct",
    "trusted": true
   },
   "outputs": [
    {
     "name": "stdout",
     "output_type": "stream",
     "text": [
      "user_id       0\n",
      "track      1343\n",
      "artist     7567\n",
      "genre      1198\n",
      "city          0\n",
      "time          0\n",
      "day           0\n",
      "dtype: int64\n"
     ]
    }
   ],
   "source": [
    "# Calculate the number of missing values\n",
    "print(df.isna().sum())"
   ]
  },
  {
   "cell_type": "markdown",
   "metadata": {
    "id": "qubhgnlO_Zct"
   },
   "source": [
    "Not all missing values affect the research. For example, missing values in `track` and `artist` are not crucial. They can simply be replaced with default values like the string `unknown`.\n",
    "\n",
    "But missing values in `genre` can affect the comparison between the musical preferences of Springfield and Shelbyville. In real life, it would be useful to know the reasons for missing data and attempt to recover them. But that opportunity doesn't exist in this project. So the choice was to:\n",
    "* fill these missing values with a default value.\n",
    "* assess how much the missing values might impact the results."
   ]
  },
  {
   "cell_type": "code",
   "execution_count": 45,
   "metadata": {
    "id": "KplB5qWs_Zct",
    "trusted": true
   },
   "outputs": [],
   "source": [
    "# Loop through headers replacing missing values with 'unknown'\n",
    "cols = ['track', 'artist', 'genre']\n",
    "    \n",
    "for col in cols:\n",
    "    df[col] = df[col].fillna('unknown')\n"
   ]
  },
  {
   "cell_type": "code",
   "execution_count": 46,
   "metadata": {
    "id": "Tq4nYRX4_Zct",
    "trusted": true
   },
   "outputs": [
    {
     "name": "stdout",
     "output_type": "stream",
     "text": [
      "user_id    0\n",
      "track      0\n",
      "artist     0\n",
      "genre      0\n",
      "city       0\n",
      "time       0\n",
      "day        0\n",
      "dtype: int64\n"
     ]
    }
   ],
   "source": [
    "# Count missing values\n",
    "print(df.isna().sum())"
   ]
  },
  {
   "cell_type": "markdown",
   "metadata": {
    "id": "74ZIBmq9VrsK"
   },
   "source": [
    "[Volver a Contenidos](#back)"
   ]
  },
  {
   "cell_type": "markdown",
   "metadata": {
    "id": "BWKRtBJ3_Zct"
   },
   "source": [
    "### Duplicates <a id='duplicates'></a>"
   ]
  },
  {
   "cell_type": "code",
   "execution_count": 47,
   "metadata": {
    "id": "36eES_S0_Zct",
    "trusted": true
   },
   "outputs": [
    {
     "name": "stdout",
     "output_type": "stream",
     "text": [
      "3826\n"
     ]
    }
   ],
   "source": [
    "#Count duplicates\n",
    "print(df.duplicated().sum())"
   ]
  },
  {
   "cell_type": "code",
   "execution_count": 48,
   "metadata": {
    "id": "exFHq6tt_Zct",
    "trusted": true
   },
   "outputs": [],
   "source": [
    "# Remove duplicates\n",
    "df = df.drop_duplicates()"
   ]
  },
  {
   "cell_type": "code",
   "execution_count": 49,
   "metadata": {
    "id": "-8PuNWQ0_Zct",
    "trusted": true
   },
   "outputs": [
    {
     "name": "stdout",
     "output_type": "stream",
     "text": [
      "0\n"
     ]
    }
   ],
   "source": [
    "# Check for duplicates\n",
    "print(df.duplicated().sum())"
   ]
  },
  {
   "cell_type": "markdown",
   "metadata": {
    "id": "QlFBsxAr_Zct"
   },
   "source": [
    "To identify and correct implicit duplicates in the `genre` column, you must first view the unique names of the genres. To do this:\n",
    "\n",
    "* Extract the genre column from the DataFrame.\n",
    "\n",
    "* Then, apply the method that returns the unique values present in that column.\n",
    "\n",
    "* Finally, sort the columns alphabetically to facilitate review and detect inconsistencies."
   ]
  },
  {
   "cell_type": "code",
   "execution_count": 50,
   "metadata": {
    "id": "JIUcqzZN_Zct",
    "trusted": true
   },
   "outputs": [
    {
     "data": {
      "text/plain": [
       "array(['rock', 'pop', 'folk', 'dance', 'rusrap', 'ruspop', 'world',\n",
       "       'electronic', 'unknown', 'alternative', 'children', 'rnb', 'hip',\n",
       "       'jazz', 'postrock', 'latin', 'classical', 'metal', 'reggae',\n",
       "       'triphop', 'blues', 'instrumental', 'rusrock', 'dnb', 'türk',\n",
       "       'post', 'country', 'psychedelic', 'conjazz', 'indie',\n",
       "       'posthardcore', 'local', 'avantgarde', 'punk', 'videogame',\n",
       "       'techno', 'house', 'christmas', 'melodic', 'caucasian',\n",
       "       'reggaeton', 'soundtrack', 'singer', 'ska', 'salsa', 'ambient',\n",
       "       'film', 'western', 'rap', 'beats', \"hard'n'heavy\", 'progmetal',\n",
       "       'minimal', 'tropical', 'contemporary', 'new', 'soul', 'holiday',\n",
       "       'german', 'jpop', 'spiritual', 'urban', 'gospel', 'nujazz',\n",
       "       'folkmetal', 'trance', 'miscellaneous', 'anime', 'hardcore',\n",
       "       'progressive', 'korean', 'numetal', 'vocal', 'estrada', 'tango',\n",
       "       'loungeelectronic', 'classicmetal', 'dubstep', 'club', 'deep',\n",
       "       'southern', 'black', 'folkrock', 'fitness', 'french', 'disco',\n",
       "       'religious', 'hiphop', 'drum', 'extrememetal', 'türkçe',\n",
       "       'experimental', 'easy', 'metalcore', 'modern', 'argentinetango',\n",
       "       'old', 'swing', 'breaks', 'eurofolk', 'stonerrock', 'industrial',\n",
       "       'funk', 'middle', 'variété', 'other', 'adult', 'christian',\n",
       "       'thrash', 'gothic', 'international', 'muslim', 'relax', 'schlager',\n",
       "       'caribbean', 'nu', 'breakbeat', 'comedy', 'chill', 'newage',\n",
       "       'specialty', 'uzbek', 'k-pop', 'balkan', 'chinese', 'meditative',\n",
       "       'dub', 'power', 'death', 'grime', 'arabesk', 'romance', 'flamenco',\n",
       "       'leftfield', 'european', 'tech', 'newwave', 'dancehall', 'mpb',\n",
       "       'piano', 'top', 'bigroom', 'opera', 'celtic', 'tradjazz',\n",
       "       'acoustic', 'epicmetal', 'hip-hop', 'historisch', 'downbeat',\n",
       "       'downtempo', 'africa', 'audiobook', 'jewish', 'sängerportrait',\n",
       "       'deutschrock', 'eastern', 'action', 'future', 'electropop',\n",
       "       'folklore', 'bollywood', 'marschmusik', 'rnr', 'karaoke', 'indian',\n",
       "       'rancheras', 'afrikaans', 'rhythm', 'sound', 'deutschspr', 'trip',\n",
       "       'lovers', 'choral', 'dancepop', 'retro', 'smooth', 'mexican',\n",
       "       'brazilian', 'ïîï', 'mood', 'surf', 'gangsta', 'inspirational',\n",
       "       'idm', 'ethnic', 'bluegrass', 'broadway', 'animated', 'americana',\n",
       "       'karadeniz', 'rockabilly', 'colombian', 'self', 'hop', 'sertanejo',\n",
       "       'japanese', 'canzone', 'lounge', 'sport', 'ragga', 'traditional',\n",
       "       'gitarre', 'frankreich', 'emo', 'laiko', 'cantopop', 'glitch',\n",
       "       'documentary', 'oceania', 'popeurodance', 'dark', 'vi', 'grunge',\n",
       "       'hardstyle', 'samba', 'garage', 'art', 'folktronica', 'entehno',\n",
       "       'mediterranean', 'chamber', 'cuban', 'taraftar', 'gypsy',\n",
       "       'hardtechno', 'shoegazing', 'bossa', 'latino', 'worldbeat',\n",
       "       'malaysian', 'baile', 'ghazal', 'arabic', 'popelectronic', 'acid',\n",
       "       'kayokyoku', 'neoklassik', 'tribal', 'tanzorchester', 'native',\n",
       "       'independent', 'cantautori', 'handsup', 'punjabi', 'synthpop',\n",
       "       'rave', 'französisch', 'quebecois', 'speech', 'soulful', 'jam',\n",
       "       'ram', 'horror', 'orchestral', 'neue', 'roots', 'slow', 'jungle',\n",
       "       'indipop', 'axé', 'fado', 'showtunes', 'arena', 'irish',\n",
       "       'mandopop', 'forró', 'dirty', 'regional'], dtype=object)"
      ]
     },
     "execution_count": 50,
     "metadata": {},
     "output_type": "execute_result"
    }
   ],
   "source": [
    "# Inspeccionar los nombres de géneros únicos\n",
    "df['genre'].unique()"
   ]
  },
  {
   "cell_type": "markdown",
   "metadata": {
    "id": "qej-Qmuo_Zct"
   },
   "source": [
    "To correct implicit duplicates of the hiphop genre, such as hip, hop, and hip-hop, a function called replace_wrong_genres() must be defined, which takes two parameters:\n",
    "\n",
    "* wrong_genres: A list of incorrect or alternate names for the genre.\n",
    "\n",
    "* correct_genre: A text string representing the correct name to use as a replacement.\n",
    "\n",
    "In the body of the function, the list of incorrect genres is traversed using a for loop. In each iteration, the 'genre' column of the DataFrame df is accessed and the replace method is applied to replace the incorrect value with the correct name. This standardizes the genre names in the table."
   ]
  },
  {
   "cell_type": "code",
   "execution_count": null,
   "metadata": {
    "id": "ErNDkmns_Zct",
    "trusted": true
   },
   "outputs": [],
   "source": [
    "# Function to replace implicit duplicates\n",
    "def replace_wrong_genres(df, wrong_genres, correct_genre):\n",
    "    for wrong_genre in wrong_genres:\n",
    "        df['genre'] = df['genre'].replace(wrong_genres, correct_genre)\n",
    "        return df"
   ]
  },
  {
   "cell_type": "code",
   "execution_count": null,
   "metadata": {
    "id": "YN5i2hpmSo09",
    "scrolled": true,
    "trusted": true
   },
   "outputs": [
    {
     "name": "stdout",
     "output_type": "stream",
     "text": [
      "        user_id                              track            artist  \\\n",
      "0      FFB692EC                  Kamigata To Boots  The Mass Missile   \n",
      "1      55204538        Delayed Because of Accident  Andreas Rönnberg   \n",
      "2        20EC38                  Funiculì funiculà       Mario Lanza   \n",
      "3      A3DD03C9              Dragons in the Sunset        Fire + Ice   \n",
      "4      E2DC1FAE                        Soul People        Space Echo   \n",
      "...         ...                                ...               ...   \n",
      "65074  729CBB09                            My Name            McLean   \n",
      "65075  D08D4A55  Maybe One Day (feat. Black Spade)       Blu & Exile   \n",
      "65076  C5E3A0D5                          Jalopiina           unknown   \n",
      "65077  321D0506                      Freight Train     Chas McDevitt   \n",
      "65078  3A64EF84          Tell Me Sweet Little Lies      Monica Lopez   \n",
      "\n",
      "            genre         city      time        day  \n",
      "0            rock  Shelbyville  20:28:33  Wednesday  \n",
      "1            rock  Springfield  14:07:09     Friday  \n",
      "2             pop  Shelbyville  20:58:07  Wednesday  \n",
      "3            folk  Shelbyville  08:37:09     Monday  \n",
      "4           dance  Springfield  08:34:34     Monday  \n",
      "...           ...          ...       ...        ...  \n",
      "65074         rnb  Springfield  13:32:28  Wednesday  \n",
      "65075      hiphop  Shelbyville  10:00:00     Monday  \n",
      "65076  industrial  Springfield  20:09:26     Friday  \n",
      "65077        rock  Springfield  21:43:59     Friday  \n",
      "65078     country  Springfield  21:59:46     Friday  \n",
      "\n",
      "[61253 rows x 7 columns]\n"
     ]
    }
   ],
   "source": [
    "# Remove implicit duplicates\n",
    "print(replace_wrong_genres(df, ['hip', 'hop', 'hip-hop'], 'hiphop'))"
   ]
  },
  {
   "cell_type": "code",
   "execution_count": null,
   "metadata": {
    "id": "wvixALnFG15m",
    "trusted": true
   },
   "outputs": [
    {
     "name": "stdout",
     "output_type": "stream",
     "text": [
      "['rock' 'pop' 'folk' 'dance' 'rusrap' 'ruspop' 'world' 'electronic'\n",
      " 'unknown' 'alternative' 'children' 'rnb' 'hiphop' 'jazz' 'postrock'\n",
      " 'latin' 'classical' 'metal' 'reggae' 'triphop' 'blues' 'instrumental'\n",
      " 'rusrock' 'dnb' 'türk' 'post' 'country' 'psychedelic' 'conjazz' 'indie'\n",
      " 'posthardcore' 'local' 'avantgarde' 'punk' 'videogame' 'techno' 'house'\n",
      " 'christmas' 'melodic' 'caucasian' 'reggaeton' 'soundtrack' 'singer' 'ska'\n",
      " 'salsa' 'ambient' 'film' 'western' 'rap' 'beats' \"hard'n'heavy\"\n",
      " 'progmetal' 'minimal' 'tropical' 'contemporary' 'new' 'soul' 'holiday'\n",
      " 'german' 'jpop' 'spiritual' 'urban' 'gospel' 'nujazz' 'folkmetal'\n",
      " 'trance' 'miscellaneous' 'anime' 'hardcore' 'progressive' 'korean'\n",
      " 'numetal' 'vocal' 'estrada' 'tango' 'loungeelectronic' 'classicmetal'\n",
      " 'dubstep' 'club' 'deep' 'southern' 'black' 'folkrock' 'fitness' 'french'\n",
      " 'disco' 'religious' 'drum' 'extrememetal' 'türkçe' 'experimental' 'easy'\n",
      " 'metalcore' 'modern' 'argentinetango' 'old' 'swing' 'breaks' 'eurofolk'\n",
      " 'stonerrock' 'industrial' 'funk' 'middle' 'variété' 'other' 'adult'\n",
      " 'christian' 'thrash' 'gothic' 'international' 'muslim' 'relax' 'schlager'\n",
      " 'caribbean' 'nu' 'breakbeat' 'comedy' 'chill' 'newage' 'specialty'\n",
      " 'uzbek' 'k-pop' 'balkan' 'chinese' 'meditative' 'dub' 'power' 'death'\n",
      " 'grime' 'arabesk' 'romance' 'flamenco' 'leftfield' 'european' 'tech'\n",
      " 'newwave' 'dancehall' 'mpb' 'piano' 'top' 'bigroom' 'opera' 'celtic'\n",
      " 'tradjazz' 'acoustic' 'epicmetal' 'historisch' 'downbeat' 'downtempo'\n",
      " 'africa' 'audiobook' 'jewish' 'sängerportrait' 'deutschrock' 'eastern'\n",
      " 'action' 'future' 'electropop' 'folklore' 'bollywood' 'marschmusik' 'rnr'\n",
      " 'karaoke' 'indian' 'rancheras' 'afrikaans' 'rhythm' 'sound' 'deutschspr'\n",
      " 'trip' 'lovers' 'choral' 'dancepop' 'retro' 'smooth' 'mexican'\n",
      " 'brazilian' 'ïîï' 'mood' 'surf' 'gangsta' 'inspirational' 'idm' 'ethnic'\n",
      " 'bluegrass' 'broadway' 'animated' 'americana' 'karadeniz' 'rockabilly'\n",
      " 'colombian' 'self' 'sertanejo' 'japanese' 'canzone' 'lounge' 'sport'\n",
      " 'ragga' 'traditional' 'gitarre' 'frankreich' 'emo' 'laiko' 'cantopop'\n",
      " 'glitch' 'documentary' 'oceania' 'popeurodance' 'dark' 'vi' 'grunge'\n",
      " 'hardstyle' 'samba' 'garage' 'art' 'folktronica' 'entehno'\n",
      " 'mediterranean' 'chamber' 'cuban' 'taraftar' 'gypsy' 'hardtechno'\n",
      " 'shoegazing' 'bossa' 'latino' 'worldbeat' 'malaysian' 'baile' 'ghazal'\n",
      " 'arabic' 'popelectronic' 'acid' 'kayokyoku' 'neoklassik' 'tribal'\n",
      " 'tanzorchester' 'native' 'independent' 'cantautori' 'handsup' 'punjabi'\n",
      " 'synthpop' 'rave' 'französisch' 'quebecois' 'speech' 'soulful' 'jam'\n",
      " 'ram' 'horror' 'orchestral' 'neue' 'roots' 'slow' 'jungle' 'indipop'\n",
      " 'axé' 'fado' 'showtunes' 'arena' 'irish' 'mandopop' 'forró' 'dirty'\n",
      " 'regional']\n"
     ]
    }
   ],
   "source": [
    "# Checking for implicit duplicates\n",
    "print(df['genre'].unique())"
   ]
  },
  {
   "cell_type": "markdown",
   "metadata": {
    "id": "ALgNbvF3VtPA"
   },
   "source": [
    "[Volver a Contenidos](#back)"
   ]
  },
  {
   "cell_type": "markdown",
   "metadata": {
    "id": "WttZHXH0SqKk"
   },
   "source": [
    "## Step 3. Hypothesis Testing <a id='hypothesis'></a>"
   ]
  },
  {
   "cell_type": "markdown",
   "metadata": {
    "id": "Im936VVi_Zcu"
   },
   "source": [
    "### Hypothesis: User activity differs by day of the week and city. <a id='activity'></a>"
   ]
  },
  {
   "cell_type": "markdown",
   "metadata": {
    "id": "nwt_MuaL_Zcu"
   },
   "source": [
    "The hypothesis states that there are differences in the way users in Springfield and Shelbyville consume music. To test this, data from three days of the week were used: Monday, Wednesday, and Friday.\n",
    "\n",
    "* Group users by city.\n",
    "* Compare the number of songs each group played on Monday, Wednesday, and Friday."
   ]
  },
  {
   "cell_type": "code",
   "execution_count": null,
   "metadata": {
    "id": "0_Qs96oh_Zcu",
    "scrolled": true,
    "trusted": true
   },
   "outputs": [
    {
     "name": "stdout",
     "output_type": "stream",
     "text": [
      "city\n",
      "Shelbyville    18512\n",
      "Springfield    42741\n",
      "Name: track, dtype: int64\n"
     ]
    }
   ],
   "source": [
    "# Count the songs played in each city\n",
    "print(df.groupby(by='city')['track'].count())"
   ]
  },
  {
   "cell_type": "markdown",
   "metadata": {
    "id": "t_Qx-3NewAnK"
   },
   "source": [
    "In Springfield they listen to more songs than in Shelbyville."
   ]
  },
  {
   "cell_type": "markdown",
   "metadata": {
    "id": "dzli3w8o_Zcu"
   },
   "source": [
    "Group the data by day of the week and find the number of songs played on Monday, Wednesday, and Friday."
   ]
  },
  {
   "cell_type": "code",
   "execution_count": null,
   "metadata": {
    "id": "uZMKjiJz_Zcu",
    "scrolled": true,
    "trusted": true
   },
   "outputs": [
    {
     "name": "stdout",
     "output_type": "stream",
     "text": [
      "day\n",
      "Friday       21840\n",
      "Monday       21354\n",
      "Wednesday    18059\n",
      "Name: track, dtype: int64\n"
     ]
    }
   ],
   "source": [
    "# Calculate the songs played on each of the three days\n",
    "print(df.groupby(by='day')['track'].count())"
   ]
  },
  {
   "cell_type": "markdown",
   "metadata": {
    "id": "cC2tNrlL_Zcu"
   },
   "source": [
    "More songs are played on Fridays."
   ]
  },
  {
   "cell_type": "markdown",
   "metadata": {
    "id": "POzs8bGa_Zcu"
   },
   "source": [
    "Write a function that can count entries based on both criteria simultaneously.\n",
    "\n",
    "Create the `number_tracks()` function to calculate the number of songs played on a given day **and** city. The function must accept two parameters:\n",
    "\n",
    "- `day`: A day of the week to filter on. For example, `'Monday'`.\n",
    "- `city`: A city to filter on. For example, `'Springfield'`.\n",
    "\n",
    "After filtering the data by two criteria, count the number of values in the 'user_id' column in the resulting table. This count represents the number of entries being searched."
   ]
  },
  {
   "cell_type": "code",
   "execution_count": 56,
   "metadata": {
    "id": "Nz3GdQB1_Zcu",
    "trusted": true
   },
   "outputs": [],
   "source": [
    "# Declara la función number_tracks() con dos parámetros: day= y city=.\n",
    "def number_track(df, day, city):\n",
    "    tracks_by_day = df[df['day'] == day] # Almacena las filas del DataFrame donde el valor en la columna 'day' es igual al parámetro day=\n",
    "\n",
    "    tracks_by_city = tracks_by_day[tracks_by_day['city'] == city] # Filtra las filas donde el valor en la columna 'city' es igual al parámetro city=\n",
    "\n",
    "    user_count = tracks_by_city['user_id'].count() # Extrae la columna 'user_id' de la tabla filtrada y aplica el método count()\n",
    "\n",
    "    return user_count # Devolve el número de valores de la columna 'user_id'"
   ]
  },
  {
   "cell_type": "markdown",
   "metadata": {
    "id": "ytf7xFrFJQ2r"
   },
   "source": [
    "Llama a `number_tracks()` seis veces, cambiando los valores de los parámetros para que recuperes los datos de ambas ciudades para cada uno de los tres días."
   ]
  },
  {
   "cell_type": "code",
   "execution_count": 57,
   "metadata": {
    "id": "rJcRATNQ_Zcu",
    "scrolled": true,
    "trusted": true
   },
   "outputs": [
    {
     "name": "stdout",
     "output_type": "stream",
     "text": [
      "15740\n"
     ]
    }
   ],
   "source": [
    "# El número de canciones reproducidas en Springfield el lunes\n",
    "print(number_track(df, 'Monday', 'Springfield'))"
   ]
  },
  {
   "cell_type": "code",
   "execution_count": 58,
   "metadata": {
    "id": "hq_ncZ5T_Zcu",
    "trusted": true
   },
   "outputs": [
    {
     "name": "stdout",
     "output_type": "stream",
     "text": [
      "5614\n"
     ]
    }
   ],
   "source": [
    "# El número de canciones reproducidas en Shelbyville el lunes\n",
    "print(number_track(df, 'Monday', 'Shelbyville'))"
   ]
  },
  {
   "cell_type": "code",
   "execution_count": 59,
   "metadata": {
    "id": "_NTy2VPU_Zcu",
    "trusted": true
   },
   "outputs": [
    {
     "name": "stdout",
     "output_type": "stream",
     "text": [
      "11056\n"
     ]
    }
   ],
   "source": [
    "# El número de canciones reproducidas en Springfield el miércoles\n",
    "print(number_track(df, 'Wednesday', 'Springfield'))"
   ]
  },
  {
   "cell_type": "code",
   "execution_count": 60,
   "metadata": {
    "id": "j2y3TAwo_Zcu",
    "trusted": true
   },
   "outputs": [
    {
     "name": "stdout",
     "output_type": "stream",
     "text": [
      "7003\n"
     ]
    }
   ],
   "source": [
    "# El número de canciones reproducidas en Shelbyville el miércoles\n",
    "print(number_track(df, 'Wednesday', 'Shelbyville'))"
   ]
  },
  {
   "cell_type": "code",
   "execution_count": 61,
   "metadata": {
    "id": "vYDw5u_K_Zcu",
    "trusted": true
   },
   "outputs": [
    {
     "name": "stdout",
     "output_type": "stream",
     "text": [
      "15945\n"
     ]
    }
   ],
   "source": [
    "# El número de canciones reproducidas en Springfield el viernes\n",
    "print(number_track(df, 'Friday', 'Springfield'))"
   ]
  },
  {
   "cell_type": "code",
   "execution_count": 62,
   "metadata": {
    "id": "8_yzFtW3_Zcu",
    "trusted": true
   },
   "outputs": [
    {
     "name": "stdout",
     "output_type": "stream",
     "text": [
      "5895\n"
     ]
    }
   ],
   "source": [
    "# El número de canciones reproducidas en Shelbyville el viernes\n",
    "print(number_track(df, 'Friday', 'Shelbyville'))"
   ]
  },
  {
   "cell_type": "markdown",
   "metadata": {
    "id": "-EgPIHYu_Zcu"
   },
   "source": [
    "**Conclusiones**\n",
    "\n",
    "`Comenta si la hipótesis es correcta o se debe rechazar. Explica tu razonamiento.` Considero que es medianamente aceptable, al parecer no depende tanto del día de la semana, pero si hay una diferencia muy marcada dependiendo de la ciudad."
   ]
  },
  {
   "cell_type": "markdown",
   "metadata": {
    "id": "p7nFQajCVw5B"
   },
   "source": [
    "[Volver a Contenidos](#back)"
   ]
  },
  {
   "cell_type": "markdown",
   "metadata": {
    "id": "ykKQ0N65_Zcv"
   },
   "source": [
    "# Conclusiones <a id='end'></a>"
   ]
  },
  {
   "cell_type": "markdown",
   "metadata": {
    "id": "tjUwbHb3_Zcv"
   },
   "source": [
    "`Resume aquí tus conclusiones sobre la hipótesis.` Parece que la hipótesis no es del todo correcta, ya que en Springfield no hay una variación tan grande en el número de canciones entre el lunes y el viernes, mientras que en Shelbyville el día que reproducen más canciones es el miércoles, por lo tanto, parece que no depende del día de la semana. En cambio, se encontró una diferencia muy grande entre la cantidad de canciones en Shelbyville y en Springfield. El 69.7% de canciones son de Springfield, por lo tanto se puede concluir que la actividad de los usuarios si depende de la ciudad."
   ]
  },
  {
   "cell_type": "markdown",
   "metadata": {
    "id": "Ju4AHDSgV1FE"
   },
   "source": [
    "[Volver a Contenidos](#back)"
   ]
  }
 ],
 "metadata": {
  "ExecuteTimeLog": [
   {
    "duration": 221,
    "start_time": "2024-10-22T02:19:10.355Z"
   },
   {
    "duration": 334,
    "start_time": "2024-10-22T02:20:22.788Z"
   },
   {
    "duration": 6,
    "start_time": "2024-10-22T02:20:28.706Z"
   },
   {
    "duration": 50,
    "start_time": "2024-10-22T02:21:03.933Z"
   },
   {
    "duration": 4,
    "start_time": "2024-10-22T02:21:31.622Z"
   },
   {
    "duration": 124,
    "start_time": "2024-10-22T02:22:26.339Z"
   },
   {
    "duration": 7,
    "start_time": "2024-10-22T02:22:32.059Z"
   },
   {
    "duration": 35,
    "start_time": "2024-10-22T02:23:30.603Z"
   },
   {
    "duration": 20,
    "start_time": "2024-10-22T02:23:41.109Z"
   },
   {
    "duration": 21,
    "start_time": "2024-10-22T02:25:21.771Z"
   },
   {
    "duration": 346,
    "start_time": "2024-10-22T02:26:02.876Z"
   },
   {
    "duration": 114,
    "start_time": "2024-10-22T02:26:07.018Z"
   },
   {
    "duration": 8,
    "start_time": "2024-10-22T02:26:10.407Z"
   },
   {
    "duration": 22,
    "start_time": "2024-10-22T02:26:14.910Z"
   },
   {
    "duration": 12,
    "start_time": "2024-10-22T02:55:00.919Z"
   },
   {
    "duration": 12,
    "start_time": "2024-10-22T02:56:28.451Z"
   },
   {
    "duration": 9,
    "start_time": "2024-10-22T02:56:44.131Z"
   },
   {
    "duration": 8,
    "start_time": "2024-10-22T02:57:05.892Z"
   },
   {
    "duration": 2,
    "start_time": "2024-10-22T02:58:46.444Z"
   },
   {
    "duration": 301,
    "start_time": "2024-10-22T02:59:10.041Z"
   },
   {
    "duration": 92,
    "start_time": "2024-10-22T02:59:19.977Z"
   },
   {
    "duration": 8,
    "start_time": "2024-10-22T02:59:23.456Z"
   },
   {
    "duration": 21,
    "start_time": "2024-10-22T02:59:28.498Z"
   },
   {
    "duration": 3,
    "start_time": "2024-10-22T02:59:40.866Z"
   },
   {
    "duration": 179,
    "start_time": "2024-10-22T03:03:28.824Z"
   },
   {
    "duration": 3,
    "start_time": "2024-10-22T03:03:46.378Z"
   },
   {
    "duration": 3,
    "start_time": "2024-10-22T03:05:48.139Z"
   },
   {
    "duration": 297,
    "start_time": "2024-10-22T03:10:50.907Z"
   },
   {
    "duration": 103,
    "start_time": "2024-10-22T03:10:51.207Z"
   },
   {
    "duration": 8,
    "start_time": "2024-10-22T03:10:51.312Z"
   },
   {
    "duration": 26,
    "start_time": "2024-10-22T03:10:51.323Z"
   },
   {
    "duration": 3,
    "start_time": "2024-10-22T03:10:51.351Z"
   },
   {
    "duration": 3,
    "start_time": "2024-10-22T03:10:51.356Z"
   },
   {
    "duration": 3,
    "start_time": "2024-10-22T03:10:51.361Z"
   },
   {
    "duration": 2,
    "start_time": "2024-10-22T03:10:51.366Z"
   },
   {
    "duration": 2,
    "start_time": "2024-10-22T03:10:51.371Z"
   },
   {
    "duration": 2,
    "start_time": "2024-10-22T03:10:51.377Z"
   },
   {
    "duration": 2,
    "start_time": "2024-10-22T03:10:51.381Z"
   },
   {
    "duration": 2,
    "start_time": "2024-10-22T03:10:51.385Z"
   },
   {
    "duration": 2,
    "start_time": "2024-10-22T03:10:51.389Z"
   },
   {
    "duration": 51,
    "start_time": "2024-10-22T03:10:51.392Z"
   },
   {
    "duration": 3,
    "start_time": "2024-10-22T03:10:51.445Z"
   },
   {
    "duration": 2,
    "start_time": "2024-10-22T03:10:51.450Z"
   },
   {
    "duration": 2,
    "start_time": "2024-10-22T03:10:51.454Z"
   },
   {
    "duration": 2,
    "start_time": "2024-10-22T03:10:51.458Z"
   },
   {
    "duration": 3,
    "start_time": "2024-10-22T03:10:51.462Z"
   },
   {
    "duration": 2,
    "start_time": "2024-10-22T03:10:51.467Z"
   },
   {
    "duration": 3,
    "start_time": "2024-10-22T03:10:51.470Z"
   },
   {
    "duration": 4,
    "start_time": "2024-10-22T03:10:51.475Z"
   },
   {
    "duration": 2,
    "start_time": "2024-10-22T03:10:51.480Z"
   },
   {
    "duration": 3,
    "start_time": "2024-10-22T03:10:51.484Z"
   },
   {
    "duration": 3,
    "start_time": "2024-10-22T03:10:51.488Z"
   },
   {
    "duration": 53,
    "start_time": "2024-10-22T03:10:51.492Z"
   },
   {
    "duration": 3,
    "start_time": "2024-10-22T03:10:51.548Z"
   },
   {
    "duration": 2,
    "start_time": "2024-10-22T03:10:51.555Z"
   },
   {
    "duration": 3,
    "start_time": "2024-10-22T03:11:27.858Z"
   },
   {
    "duration": 3,
    "start_time": "2024-10-22T03:13:09.238Z"
   },
   {
    "duration": 181,
    "start_time": "2024-10-22T03:13:16.113Z"
   },
   {
    "duration": 3,
    "start_time": "2024-10-22T03:13:25.684Z"
   },
   {
    "duration": 4,
    "start_time": "2024-10-22T03:16:39.037Z"
   },
   {
    "duration": 13,
    "start_time": "2024-10-22T03:17:41.241Z"
   },
   {
    "duration": 3,
    "start_time": "2024-10-22T03:17:53.660Z"
   },
   {
    "duration": 3,
    "start_time": "2024-10-22T03:21:42.178Z"
   },
   {
    "duration": 3,
    "start_time": "2024-10-22T03:22:28.673Z"
   },
   {
    "duration": 19,
    "start_time": "2024-10-22T03:25:49.574Z"
   },
   {
    "duration": 18,
    "start_time": "2024-10-22T03:26:55.493Z"
   },
   {
    "duration": 15,
    "start_time": "2024-10-22T03:31:48.640Z"
   },
   {
    "duration": 421,
    "start_time": "2024-10-22T03:32:47.534Z"
   },
   {
    "duration": 13,
    "start_time": "2024-10-22T03:33:23.399Z"
   },
   {
    "duration": 29,
    "start_time": "2024-10-22T03:33:50.192Z"
   },
   {
    "duration": 11,
    "start_time": "2024-10-22T03:34:53.470Z"
   },
   {
    "duration": 17,
    "start_time": "2024-10-22T03:35:38.878Z"
   },
   {
    "duration": 50,
    "start_time": "2024-10-22T03:37:15.145Z"
   },
   {
    "duration": 47,
    "start_time": "2024-10-22T03:39:16.455Z"
   },
   {
    "duration": 41,
    "start_time": "2024-10-22T03:39:21.315Z"
   },
   {
    "duration": 45,
    "start_time": "2024-10-22T03:40:59.459Z"
   },
   {
    "duration": 47,
    "start_time": "2024-10-22T03:41:43.221Z"
   },
   {
    "duration": 46,
    "start_time": "2024-10-22T03:41:46.926Z"
   },
   {
    "duration": 6,
    "start_time": "2024-10-22T03:42:25.364Z"
   },
   {
    "duration": 6,
    "start_time": "2024-10-22T03:42:56.273Z"
   },
   {
    "duration": 5,
    "start_time": "2024-10-22T03:52:57.223Z"
   },
   {
    "duration": 13,
    "start_time": "2024-10-22T03:53:11.353Z"
   },
   {
    "duration": 13,
    "start_time": "2024-10-22T03:53:37.987Z"
   },
   {
    "duration": 3,
    "start_time": "2024-10-22T03:54:09.919Z"
   },
   {
    "duration": 44,
    "start_time": "2024-10-22T03:54:19.743Z"
   },
   {
    "duration": 3,
    "start_time": "2024-10-22T03:55:44.846Z"
   },
   {
    "duration": 43,
    "start_time": "2024-10-22T03:55:49.606Z"
   },
   {
    "duration": 3,
    "start_time": "2024-10-22T03:59:37.655Z"
   },
   {
    "duration": 13,
    "start_time": "2024-10-22T04:00:18.781Z"
   },
   {
    "duration": 8,
    "start_time": "2024-10-22T04:00:39.471Z"
   },
   {
    "duration": 8,
    "start_time": "2024-10-22T04:01:17.214Z"
   },
   {
    "duration": 3,
    "start_time": "2024-10-22T04:01:45.331Z"
   },
   {
    "duration": 8,
    "start_time": "2024-10-22T04:02:03.156Z"
   },
   {
    "duration": 8,
    "start_time": "2024-10-22T04:04:12.940Z"
   },
   {
    "duration": 6,
    "start_time": "2024-10-22T04:04:23.591Z"
   },
   {
    "duration": 4,
    "start_time": "2024-10-22T04:16:48.483Z"
   },
   {
    "duration": 3,
    "start_time": "2024-10-22T04:17:11.678Z"
   },
   {
    "duration": 22,
    "start_time": "2024-10-22T04:18:37.524Z"
   },
   {
    "duration": 10,
    "start_time": "2024-10-22T04:19:26.439Z"
   },
   {
    "duration": 192,
    "start_time": "2024-10-22T04:22:30.177Z"
   },
   {
    "duration": 9,
    "start_time": "2024-10-22T04:23:06.580Z"
   },
   {
    "duration": 9,
    "start_time": "2024-10-22T04:24:30.295Z"
   },
   {
    "duration": 224,
    "start_time": "2024-10-22T04:28:02.828Z"
   },
   {
    "duration": 10,
    "start_time": "2024-10-22T04:28:38.203Z"
   },
   {
    "duration": 11,
    "start_time": "2024-10-22T04:34:18.660Z"
   },
   {
    "duration": 8,
    "start_time": "2024-10-22T04:34:23.457Z"
   },
   {
    "duration": 4,
    "start_time": "2024-10-22T04:42:56.670Z"
   },
   {
    "duration": 12,
    "start_time": "2024-10-22T04:44:16.828Z"
   },
   {
    "duration": 13,
    "start_time": "2024-10-22T04:44:37.872Z"
   },
   {
    "duration": 12,
    "start_time": "2024-10-22T04:44:48.523Z"
   },
   {
    "duration": 7,
    "start_time": "2024-10-22T04:45:27.057Z"
   },
   {
    "duration": 7,
    "start_time": "2024-10-22T04:46:12.059Z"
   },
   {
    "duration": 7,
    "start_time": "2024-10-22T04:46:29.456Z"
   },
   {
    "duration": 7,
    "start_time": "2024-10-22T04:47:29.135Z"
   },
   {
    "duration": 7,
    "start_time": "2024-10-22T04:48:11.133Z"
   },
   {
    "duration": 7,
    "start_time": "2024-10-22T04:48:23.572Z"
   },
   {
    "duration": 3,
    "start_time": "2024-10-22T04:51:57.217Z"
   },
   {
    "duration": 13,
    "start_time": "2024-10-22T04:52:01.917Z"
   },
   {
    "duration": 13,
    "start_time": "2024-10-22T04:52:04.449Z"
   },
   {
    "duration": 12,
    "start_time": "2024-10-22T04:52:05.263Z"
   },
   {
    "duration": 11,
    "start_time": "2024-10-22T04:52:05.984Z"
   },
   {
    "duration": 14,
    "start_time": "2024-10-22T04:52:06.634Z"
   },
   {
    "duration": 13,
    "start_time": "2024-10-22T04:52:07.292Z"
   },
   {
    "duration": 278,
    "start_time": "2024-10-22T05:09:47.924Z"
   },
   {
    "duration": 107,
    "start_time": "2024-10-22T05:09:48.204Z"
   },
   {
    "duration": 7,
    "start_time": "2024-10-22T05:09:48.313Z"
   },
   {
    "duration": 28,
    "start_time": "2024-10-22T05:09:48.323Z"
   },
   {
    "duration": 3,
    "start_time": "2024-10-22T05:09:48.352Z"
   },
   {
    "duration": 5,
    "start_time": "2024-10-22T05:09:48.357Z"
   },
   {
    "duration": 199,
    "start_time": "2024-10-22T05:09:48.364Z"
   },
   {
    "duration": 0,
    "start_time": "2024-10-22T05:09:48.566Z"
   },
   {
    "duration": 0,
    "start_time": "2024-10-22T05:09:48.567Z"
   },
   {
    "duration": 0,
    "start_time": "2024-10-22T05:09:48.568Z"
   },
   {
    "duration": 0,
    "start_time": "2024-10-22T05:09:48.569Z"
   },
   {
    "duration": 0,
    "start_time": "2024-10-22T05:09:48.573Z"
   },
   {
    "duration": 0,
    "start_time": "2024-10-22T05:09:48.574Z"
   },
   {
    "duration": 0,
    "start_time": "2024-10-22T05:09:48.575Z"
   },
   {
    "duration": 0,
    "start_time": "2024-10-22T05:09:48.576Z"
   },
   {
    "duration": 0,
    "start_time": "2024-10-22T05:09:48.577Z"
   },
   {
    "duration": 0,
    "start_time": "2024-10-22T05:09:48.578Z"
   },
   {
    "duration": 0,
    "start_time": "2024-10-22T05:09:48.579Z"
   },
   {
    "duration": 0,
    "start_time": "2024-10-22T05:09:48.580Z"
   },
   {
    "duration": 0,
    "start_time": "2024-10-22T05:09:48.581Z"
   },
   {
    "duration": 0,
    "start_time": "2024-10-22T05:09:48.582Z"
   },
   {
    "duration": 0,
    "start_time": "2024-10-22T05:09:48.583Z"
   },
   {
    "duration": 0,
    "start_time": "2024-10-22T05:09:48.584Z"
   },
   {
    "duration": 0,
    "start_time": "2024-10-22T05:09:48.585Z"
   },
   {
    "duration": 0,
    "start_time": "2024-10-22T05:09:48.586Z"
   },
   {
    "duration": 0,
    "start_time": "2024-10-22T05:09:48.587Z"
   },
   {
    "duration": 0,
    "start_time": "2024-10-22T05:09:48.588Z"
   },
   {
    "duration": 0,
    "start_time": "2024-10-22T05:09:48.589Z"
   },
   {
    "duration": 277,
    "start_time": "2024-10-22T05:10:26.330Z"
   },
   {
    "duration": 95,
    "start_time": "2024-10-22T05:10:26.610Z"
   },
   {
    "duration": 6,
    "start_time": "2024-10-22T05:10:26.707Z"
   },
   {
    "duration": 34,
    "start_time": "2024-10-22T05:10:26.716Z"
   },
   {
    "duration": 3,
    "start_time": "2024-10-22T05:10:26.752Z"
   },
   {
    "duration": 4,
    "start_time": "2024-10-22T05:10:26.757Z"
   },
   {
    "duration": 532,
    "start_time": "2024-10-22T05:10:26.764Z"
   },
   {
    "duration": 0,
    "start_time": "2024-10-22T05:10:27.299Z"
   },
   {
    "duration": 0,
    "start_time": "2024-10-22T05:10:27.300Z"
   },
   {
    "duration": 0,
    "start_time": "2024-10-22T05:10:27.301Z"
   },
   {
    "duration": 0,
    "start_time": "2024-10-22T05:10:27.302Z"
   },
   {
    "duration": 0,
    "start_time": "2024-10-22T05:10:27.303Z"
   },
   {
    "duration": 0,
    "start_time": "2024-10-22T05:10:27.304Z"
   },
   {
    "duration": 0,
    "start_time": "2024-10-22T05:10:27.305Z"
   },
   {
    "duration": 0,
    "start_time": "2024-10-22T05:10:27.307Z"
   },
   {
    "duration": 0,
    "start_time": "2024-10-22T05:10:27.308Z"
   },
   {
    "duration": 0,
    "start_time": "2024-10-22T05:10:27.309Z"
   },
   {
    "duration": 0,
    "start_time": "2024-10-22T05:10:27.310Z"
   },
   {
    "duration": 0,
    "start_time": "2024-10-22T05:10:27.311Z"
   },
   {
    "duration": 0,
    "start_time": "2024-10-22T05:10:27.312Z"
   },
   {
    "duration": 0,
    "start_time": "2024-10-22T05:10:27.313Z"
   },
   {
    "duration": 0,
    "start_time": "2024-10-22T05:10:27.343Z"
   },
   {
    "duration": 0,
    "start_time": "2024-10-22T05:10:27.344Z"
   },
   {
    "duration": 0,
    "start_time": "2024-10-22T05:10:27.345Z"
   },
   {
    "duration": 0,
    "start_time": "2024-10-22T05:10:27.346Z"
   },
   {
    "duration": 0,
    "start_time": "2024-10-22T05:10:27.347Z"
   },
   {
    "duration": 0,
    "start_time": "2024-10-22T05:10:27.348Z"
   },
   {
    "duration": 0,
    "start_time": "2024-10-22T05:10:27.349Z"
   },
   {
    "duration": 28,
    "start_time": "2024-10-22T05:10:56.842Z"
   },
   {
    "duration": 35,
    "start_time": "2024-10-22T05:11:49.070Z"
   },
   {
    "duration": 4,
    "start_time": "2024-10-22T05:13:58.658Z"
   },
   {
    "duration": 304,
    "start_time": "2024-10-22T05:14:07.387Z"
   },
   {
    "duration": 97,
    "start_time": "2024-10-22T05:14:07.693Z"
   },
   {
    "duration": 7,
    "start_time": "2024-10-22T05:14:07.792Z"
   },
   {
    "duration": 21,
    "start_time": "2024-10-22T05:14:07.801Z"
   },
   {
    "duration": 3,
    "start_time": "2024-10-22T05:14:07.824Z"
   },
   {
    "duration": 4,
    "start_time": "2024-10-22T05:14:07.843Z"
   },
   {
    "duration": 4,
    "start_time": "2024-10-22T05:14:07.848Z"
   },
   {
    "duration": 3,
    "start_time": "2024-10-22T05:14:07.854Z"
   },
   {
    "duration": 3,
    "start_time": "2024-10-22T05:14:07.859Z"
   },
   {
    "duration": 19,
    "start_time": "2024-10-22T05:14:07.865Z"
   },
   {
    "duration": 10,
    "start_time": "2024-10-22T05:14:07.886Z"
   },
   {
    "duration": 54,
    "start_time": "2024-10-22T05:14:07.898Z"
   },
   {
    "duration": 44,
    "start_time": "2024-10-22T05:14:07.955Z"
   },
   {
    "duration": 63,
    "start_time": "2024-10-22T05:14:08.000Z"
   },
   {
    "duration": 40,
    "start_time": "2024-10-22T05:14:08.065Z"
   },
   {
    "duration": 8,
    "start_time": "2024-10-22T05:14:08.107Z"
   },
   {
    "duration": 2,
    "start_time": "2024-10-22T05:14:08.117Z"
   },
   {
    "duration": 8,
    "start_time": "2024-10-22T05:14:08.142Z"
   },
   {
    "duration": 7,
    "start_time": "2024-10-22T05:14:08.151Z"
   },
   {
    "duration": 9,
    "start_time": "2024-10-22T05:14:08.160Z"
   },
   {
    "duration": 10,
    "start_time": "2024-10-22T05:14:08.170Z"
   },
   {
    "duration": 3,
    "start_time": "2024-10-22T05:14:08.182Z"
   },
   {
    "duration": 15,
    "start_time": "2024-10-22T05:14:08.187Z"
   },
   {
    "duration": 49,
    "start_time": "2024-10-22T05:14:08.204Z"
   },
   {
    "duration": 14,
    "start_time": "2024-10-22T05:14:08.255Z"
   },
   {
    "duration": 14,
    "start_time": "2024-10-22T05:14:08.271Z"
   },
   {
    "duration": 18,
    "start_time": "2024-10-22T05:14:08.287Z"
   },
   {
    "duration": 43,
    "start_time": "2024-10-22T05:14:08.309Z"
   }
  ],
  "colab": {
   "collapsed_sections": [
    "E0vqbgi9ay0H",
    "VUC88oWjTJw2"
   ],
   "provenance": []
  },
  "kernelspec": {
   "display_name": "Python 3",
   "language": "python",
   "name": "python3"
  },
  "language_info": {
   "codemirror_mode": {
    "name": "ipython",
    "version": 3
   },
   "file_extension": ".py",
   "mimetype": "text/x-python",
   "name": "python",
   "nbconvert_exporter": "python",
   "pygments_lexer": "ipython3",
   "version": "3.12.6"
  },
  "toc": {
   "base_numbering": 1,
   "nav_menu": {},
   "number_sections": true,
   "sideBar": true,
   "skip_h1_title": true,
   "title_cell": "Table of Contents",
   "title_sidebar": "Contents",
   "toc_cell": false,
   "toc_position": {},
   "toc_section_display": true,
   "toc_window_display": false
  }
 },
 "nbformat": 4,
 "nbformat_minor": 1
}
